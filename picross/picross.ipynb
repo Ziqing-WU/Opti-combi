{
 "cells": [
  {
   "cell_type": "markdown",
   "metadata": {},
   "source": [
    "## Reminders of syntax with the facile library"
   ]
  },
  {
   "cell_type": "markdown",
   "metadata": {},
   "source": [
    "<div class=\"alert alert-success\">\n",
    "    <b>Hint</b>: Constraints may be summed: the result is the number of True values in the set of constraints.<br/>(However, this doesn't work with global constraints such as alldifferent)\n",
    "</div>\n",
    "\n",
    "Example: Find an array of length $n$ taking values in $[0, n-1]$ so that the $i$-th value is equal to the number of $i$ inside the array."
   ]
  },
  {
   "cell_type": "code",
   "execution_count": 10,
   "metadata": {},
   "outputs": [
    {
     "name": "stdout",
     "output_type": "stream",
     "text": [
      "indices: [0, 1, 2, 3, 4, 5, 6, 7, 8, 9]\n",
      "array:   [6, 2, 1, 0, 0, 0, 1, 0, 0, 0]\n"
     ]
    }
   ],
   "source": [
    "import facile\n",
    "n = 10\n",
    "array = [facile.variable(range(n)) for i in range(n)]\n",
    "for i in range(n):\n",
    "    facile.constraint(sum([x == i for x in array]) == array[i])\n",
    "\n",
    "if facile.solve(array):\n",
    "    print(f\"indices: {list(range(n))}\")\n",
    "    print(f\"array:   {[v.value() for v in array]}\")"
   ]
  },
  {
   "cell_type": "markdown",
   "metadata": {},
   "source": [
    "<div class=\"alert alert-success\">\n",
    "    <b>Hint</b>: You may use the & and | operators for the logical $\\land$ and $\\lor$.<br/>(However, this doesn't work with global constraints such as alldifferent)\n",
    "</div>"
   ]
  },
  {
   "cell_type": "code",
   "execution_count": 13,
   "metadata": {},
   "outputs": [
    {
     "data": {
      "text/plain": [
       "(1, 0)"
      ]
     },
     "execution_count": 13,
     "metadata": {},
     "output_type": "execute_result"
    }
   ],
   "source": [
    "a, b = facile.variable([0, 1, 2]), facile.variable([0, 1, 2])\n",
    "\n",
    "left = (a == b) & (a + b == 2)\n",
    "right = a > b\n",
    "facile.constraint(left | right)\n",
    "result = facile.solve([a, b])\n",
    "a.value(), b.value()"
   ]
  },
  {
   "cell_type": "markdown",
   "metadata": {
    "editable": true
   },
   "source": [
    "## Picross\n",
    "\n",
    "Picross is a popular game of a similar nature to Sudoku.  \n",
    "It consists of a grid of square dimension $n \\times n$ and of a list of integers for each row and each column.\n",
    "\n",
    "![](./picross_duck.png)\n",
    "\n",
    "We can use the following notations:\n",
    "\n",
    "- $b_{i,j} \\in \\{0, 1\\}$ represents a bit, indicating a column or a row where $i, j \\in \\{1, ..., n\\}$ represents a column or row index;\n",
    "- $m_i \\in \\{1, ..., \\lceil n/2 \\rceil\\}$ represents the size of the list associated to row/column $i$;\n",
    "- $a_{i,k} \\in \\{1, ..., n\\}$ is the $k$-th integer of the list associated to row/column $i$.\n",
    "\n",
    "The goal is to darken some cells of the grid, such that in each row/column $i$ the number of successive black cells form the list $\\{a_{i,1}, ..., a_{i,m_i}\\}$.\n",
    "\n",
    "<div class=\"alert alert-warning\">\n",
    "    <b>Paper submission</b> (half of the grade):<br/>\n",
    "Before heading to the code, you shall answer the following questions.<br/>\n",
    "    Please <b>handwrite</b> your answers on a separate sheet of paper. You will submit a pdf scan of this document together with your notebook.  \n",
    "(You may take a picture with your phone if need be but the pdf option is preferred.)\n",
    "</div>\n",
    "\n",
    "1. There are two ways to model the problem:\n",
    "    - binary variables (1) associated to the color of each cell, or\n",
    "    - integer variables (2) associated to the bottom/left coordinate of each black cluster.  \n",
    "  For **both** ways, specify the decision variables and their associated domain.\n",
    "\n",
    "2. Write the constraint stating that on each line and column, two blocks do not overlap.  \n",
    "Choose **one** of the two ways of modelling the problem (i.e. decision variables from (1) or from (2)) to express this constraint.\n",
    "\n",
    "3. Write the constraint that puts a limit to the number of black cells on each line/column.  \n",
    "Choose **one** of the two ways of modelling the problem (i.e. decision variables from (1) or from (2)) to express this constraint.\n",
    "\n",
    "4. Write the constraint that links decision variables from (1) to decision variables from (2), stating the conditions under which a cell must be coloured in black.\n",
    "\n",
    "<div class=\"alert alert-danger\">\n",
    "    Before you start coding, <b>please take time to understand</b> what happened: we stated two different ways to model the same problem (question 1.). Both are convenient for stating one part of the problem, but cannot state the whole set of constraints (question 2. and 3.).<br/>One constraint (question 4.) helps linking both decision variables.\n",
    "</div>\n",
    "\n",
    "You are provided with a set of problems in the Python dictionary `picross`. Your code will be evaluated on all these problems, but you should start with small problems like `moon`, `star` and `cat`. The most time-consuming should be `house` so do not try it before your code is stable.\n",
    "\n",
    "Have a look at variables `lines` and `columns`, since you will have to feed this data into your problem. From now, it should be (almost) direct to code the constraints you have written on paper into Python.\n",
    "\n",
    "<div class=\"alert alert-warning\">\n",
    "    Finally, <b>do not waste too much time on the output</b>.  \n",
    "    You will <b>not</b> get extra points with a fancy matplotlib plot.  \n",
    "    A text output, with stars (<code>*</code>) or black characters (<code>■</code>) like the following ones is enough:\n",
    "</div>\n",
    "\n",
    "```\n",
    "         ***                 ■■■    \n",
    "        *****               ■■■■■   \n",
    "       **** ***            ■■■■ ■■■ \n",
    "       *******             ■■■■■■■  \n",
    "        *****               ■■■■■   \n",
    "         ***                 ■■■    \n",
    "        *****               ■■■■■   \n",
    "*     ********      ■     ■■■■■■■■  \n",
    "***  ***   ***      ■■■  ■■■   ■■■  \n",
    "******* *** **      ■■■■■■■ ■■■ ■■  \n",
    " ***** **** **       ■■■■■ ■■■■ ■■  \n",
    " ********  **        ■■■■■■■■  ■■   \n",
    "  **********          ■■■■■■■■■■    \n",
    "    ** ***              ■■ ■■■      \n",
    "      ******              ■■■■■■    \n",
    "\n",
    "```"
   ]
  },
  {
   "cell_type": "code",
   "execution_count": 15,
   "metadata": {
    "collapsed": false,
    "deletable": true,
    "editable": true,
    "jupyter": {
     "outputs_hidden": false
    }
   },
   "outputs": [
    {
     "name": "stdout",
     "output_type": "stream",
     "text": [
      "[[2], [2], [1, 2], [5], [3]]\n",
      "[[2], [2], [1, 2], [5], [3]]\n"
     ]
    },
    {
     "data": {
      "text/plain": [
       "(5, 5)"
      ]
     },
     "execution_count": 15,
     "metadata": {},
     "output_type": "execute_result"
    }
   ],
   "source": [
    "from picross import picross\n",
    "\n",
    "# Choose among 'moon', 'star', 'cat', 'horse', 'house' and 'duck'\n",
    "lines, columns = picross['moon']\n",
    "\n",
    "print(lines)\n",
    "print(columns)\n",
    "\n",
    "n_l, n_c = len(lines), len(columns)\n",
    "\n",
    "(n_l, n_c)"
   ]
  },
  {
   "cell_type": "code",
   "execution_count": 179,
   "metadata": {
    "deletable": true,
    "editable": true
   },
   "outputs": [
    {
     "ename": "TypeError",
     "evalue": "The arguments must be variables or expressions",
     "output_type": "error",
     "traceback": [
      "\u001b[0;31m---------------------------------------------------------------------------\u001b[0m",
      "\u001b[0;31mTypeError\u001b[0m                                 Traceback (most recent call last)",
      "\u001b[0;32m<ipython-input-179-747c0c053081>\u001b[0m in \u001b[0;36m<module>\u001b[0;34m\u001b[0m\n\u001b[1;32m      1\u001b[0m \u001b[0;32mimport\u001b[0m \u001b[0mfacile\u001b[0m\u001b[0;34m\u001b[0m\u001b[0;34m\u001b[0m\u001b[0m\n\u001b[0;32m----> 2\u001b[0;31m \u001b[0mb\u001b[0m \u001b[0;34m=\u001b[0m \u001b[0mfacile\u001b[0m\u001b[0;34m.\u001b[0m\u001b[0marray\u001b[0m\u001b[0;34m(\u001b[0m\u001b[0;34m[\u001b[0m\u001b[0;34m[\u001b[0m\u001b[0mfacile\u001b[0m\u001b[0;34m.\u001b[0m\u001b[0mvariable\u001b[0m\u001b[0;34m(\u001b[0m\u001b[0;34m[\u001b[0m\u001b[0;36m0\u001b[0m\u001b[0;34m,\u001b[0m\u001b[0;36m1\u001b[0m\u001b[0;34m]\u001b[0m\u001b[0;34m)\u001b[0m \u001b[0;32mfor\u001b[0m \u001b[0mi\u001b[0m \u001b[0;32min\u001b[0m \u001b[0mrange\u001b[0m\u001b[0;34m(\u001b[0m\u001b[0mn_l\u001b[0m\u001b[0;34m)\u001b[0m\u001b[0;34m]\u001b[0m \u001b[0;32mfor\u001b[0m \u001b[0mj\u001b[0m \u001b[0;32min\u001b[0m \u001b[0mrange\u001b[0m\u001b[0;34m(\u001b[0m\u001b[0mn_c\u001b[0m\u001b[0;34m)\u001b[0m\u001b[0;34m]\u001b[0m\u001b[0;34m)\u001b[0m\u001b[0;34m\u001b[0m\u001b[0;34m\u001b[0m\u001b[0m\n\u001b[0m\u001b[1;32m      3\u001b[0m \u001b[0ml\u001b[0m \u001b[0;34m=\u001b[0m \u001b[0;34m[\u001b[0m\u001b[0;34m[\u001b[0m\u001b[0mfacile\u001b[0m\u001b[0;34m.\u001b[0m\u001b[0mvariable\u001b[0m\u001b[0;34m(\u001b[0m\u001b[0mrange\u001b[0m\u001b[0;34m(\u001b[0m\u001b[0mn_l\u001b[0m\u001b[0;34m)\u001b[0m\u001b[0;34m)\u001b[0m \u001b[0;32mfor\u001b[0m \u001b[0mj\u001b[0m \u001b[0;32min\u001b[0m \u001b[0mrange\u001b[0m\u001b[0;34m(\u001b[0m\u001b[0mlen\u001b[0m\u001b[0;34m(\u001b[0m\u001b[0mlines\u001b[0m\u001b[0;34m[\u001b[0m\u001b[0mi\u001b[0m\u001b[0;34m]\u001b[0m\u001b[0;34m)\u001b[0m\u001b[0;34m)\u001b[0m\u001b[0;34m]\u001b[0m \u001b[0;32mfor\u001b[0m \u001b[0mi\u001b[0m \u001b[0;32min\u001b[0m \u001b[0mrange\u001b[0m\u001b[0;34m(\u001b[0m\u001b[0mn_l\u001b[0m\u001b[0;34m)\u001b[0m\u001b[0;34m]\u001b[0m\u001b[0;34m\u001b[0m\u001b[0;34m\u001b[0m\u001b[0m\n\u001b[1;32m      4\u001b[0m \u001b[0mc\u001b[0m \u001b[0;34m=\u001b[0m \u001b[0;34m[\u001b[0m\u001b[0;34m[\u001b[0m\u001b[0mfacile\u001b[0m\u001b[0;34m.\u001b[0m\u001b[0mvariable\u001b[0m\u001b[0;34m(\u001b[0m\u001b[0mrange\u001b[0m\u001b[0;34m(\u001b[0m\u001b[0mn_c\u001b[0m\u001b[0;34m)\u001b[0m\u001b[0;34m)\u001b[0m \u001b[0;32mfor\u001b[0m \u001b[0mj\u001b[0m \u001b[0;32min\u001b[0m \u001b[0mrange\u001b[0m\u001b[0;34m(\u001b[0m\u001b[0mlen\u001b[0m\u001b[0;34m(\u001b[0m\u001b[0mcolumns\u001b[0m\u001b[0;34m[\u001b[0m\u001b[0mi\u001b[0m\u001b[0;34m]\u001b[0m\u001b[0;34m)\u001b[0m\u001b[0;34m)\u001b[0m\u001b[0;34m]\u001b[0m \u001b[0;32mfor\u001b[0m \u001b[0mi\u001b[0m \u001b[0;32min\u001b[0m \u001b[0mrange\u001b[0m\u001b[0;34m(\u001b[0m\u001b[0mn_c\u001b[0m\u001b[0;34m)\u001b[0m\u001b[0;34m]\u001b[0m\u001b[0;34m\u001b[0m\u001b[0;34m\u001b[0m\u001b[0m\n\u001b[1;32m      5\u001b[0m \u001b[0;34m\u001b[0m\u001b[0m\n",
      "\u001b[0;32mfacile.pyx\u001b[0m in \u001b[0;36mfacile.array\u001b[0;34m()\u001b[0m\n",
      "\u001b[0;31mTypeError\u001b[0m: The arguments must be variables or expressions"
     ]
    }
   ],
   "source": [
    "import facile\n",
    "b = [[facile.variable([0,1]) for i in range(n_l)] for j in range(n_c)])\n",
    "l = [[facile.variable(range(n_l)) for j in range(len(lines[i]))] for i in range(n_l)]\n",
    "c = [[facile.variable(range(n_c)) for j in range(len(columns[i]))] for i in range(n_c)]\n",
    "\n",
    "for i in range(n_l):\n",
    "    facile.constraint(sum(b[i])==sum(lines[i]))\n",
    "for j in range(n_c):\n",
    "    facile.constraint(sum([b[i][j] for i in range(n_l)])==sum(columns[j]))\n",
    "for i in range(n_l):\n",
    "    for k in range(len(lines[i])-1):\n",
    "        facile.constraint(l[i][k+1]-l[i][k]>lines[i][k])\n",
    "for j in range(n_c):\n",
    "    for k in range(len(columns[j])-1):\n",
    "        facile.constraint(c[j][k+1]-c[j][k]>columns[j][k]) \n",
    "for i in range(n_l):\n",
    "    for k in range(len(lines[i])):\n",
    "        facile.constraint(b[i][l[i][k].value()]==1)\n",
    "for j in range(n_c):\n",
    "    for k in range(len(columns[j])):\n",
    "        facile.constraint(b[c[k][j].value()][j]==1)\n",
    "white = ' '\n",
    "black = \"*\"\n",
    "\n",
    "if facile.solve([b_ij for b_i in b for b_ij in b_i]+[l_ik for l_i in l for l_ik in l_i]+[c_ik for c_i in c for c_ik in c_i]):\n",
    "    for i in range(n_l):\n",
    "        str = ''\n",
    "        for j in range(n_c):\n",
    "            if b[i][j].value()==0:\n",
    "                str += white\n",
    "            else:\n",
    "                str += black\n",
    "        print(str)"
   ]
  },
  {
   "cell_type": "code",
   "execution_count": null,
   "metadata": {},
   "outputs": [],
   "source": [
    "m_l = [len(lines[i]) for i in range(n_l)]\n",
    "m_c = [len(columns[j]) for j in range(n_c)]\n",
    "a_l = [[lines[i][k] for k in range(m_l[i])] for i in range(n_l)]\n",
    "a_c = [[columns[j][k] for k in range(m_c[j])] for j in range(n_c)]"
   ]
  },
  {
   "cell_type": "code",
   "execution_count": 167,
   "metadata": {},
   "outputs": [
    {
     "name": "stdout",
     "output_type": "stream",
     "text": [
      "[8, 0, 0]\n",
      "[3, 5, 0]\n",
      "[3, 2, 3]\n",
      "[6, 2, 0]\n",
      "[6, 0, 2]\n",
      "[1, 5, 2]\n",
      "[1, 4, 3]\n",
      "[4, 4, 0]\n"
     ]
    }
   ],
   "source": [
    "from facile import variable, constraint, solve\n",
    "\n",
    "# Number of buckets\n",
    "nb = 3\n",
    "# Number of steps (let's say we know... :p)\n",
    "steps = 8\n",
    "# The capacity of each bucket\n",
    "capacity = [8, 5, 3]\n",
    "\n",
    "buckets = [[variable(range(capacity[b] + 1)) for b in range(nb)]\n",
    "           for i in range(steps)]\n",
    "\n",
    "constraint(buckets[0][0] == 8)\n",
    "constraint(buckets[0][1] == 0)\n",
    "constraint(buckets[0][2] == 0)\n",
    "\n",
    "constraint(buckets[steps - 1][0] == 4)\n",
    "constraint(buckets[steps - 1][1] == 4)\n",
    "constraint(buckets[steps - 1][2] == 0)\n",
    "\n",
    "for i in range(steps - 1):\n",
    "    # we change the contents of two buckets at a time\n",
    "    constraint(sum([buckets[i][b] != buckets[i+1][b] for b in range(nb)]) == 2)\n",
    "    # we play with a constant amount of water\n",
    "    constraint(sum([buckets[i][b] for b in range(nb)]) == 8)\n",
    "    for b1 in range(nb):\n",
    "        for b2 in range(b1):\n",
    "            constraint(\n",
    "                # either the content of the bucket does not change\n",
    "                (buckets[i][b1] == buckets[i+1][b1]) |\n",
    "                (buckets[i][b2] == buckets[i+1][b2]) |\n",
    "                # or the bucket ends up empty or full\n",
    "                (buckets[i+1][b1] == 0) | (buckets[i+1][b1] == capacity[b1]) |\n",
    "                (buckets[i+1][b2] == 0) | (buckets[i+1][b2] == capacity[b2])\n",
    "                )\n",
    "\n",
    "if solve([b for sub in buckets for b in sub]):\n",
    "    for sub in buckets:\n",
    "        print ([b.value() for b in sub])"
   ]
  },
  {
   "cell_type": "code",
   "execution_count": 125,
   "metadata": {},
   "outputs": [
    {
     "ename": "AssertionError",
     "evalue": "All arguments must be variables",
     "output_type": "error",
     "traceback": [
      "\u001b[0;31m---------------------------------------------------------------------------\u001b[0m",
      "\u001b[0;31mAssertionError\u001b[0m                            Traceback (most recent call last)",
      "\u001b[0;32m<ipython-input-125-93f1d3b24bd5>\u001b[0m in \u001b[0;36m<module>\u001b[0;34m\u001b[0m\n\u001b[1;32m      7\u001b[0m \u001b[0;32mfor\u001b[0m \u001b[0mj\u001b[0m \u001b[0;32min\u001b[0m \u001b[0mrange\u001b[0m\u001b[0;34m(\u001b[0m\u001b[0mn_c\u001b[0m\u001b[0;34m)\u001b[0m\u001b[0;34m:\u001b[0m\u001b[0;34m\u001b[0m\u001b[0;34m\u001b[0m\u001b[0m\n\u001b[1;32m      8\u001b[0m     \u001b[0mfacile\u001b[0m\u001b[0;34m.\u001b[0m\u001b[0mconstraint\u001b[0m\u001b[0;34m(\u001b[0m\u001b[0msum\u001b[0m\u001b[0;34m(\u001b[0m\u001b[0;34m[\u001b[0m\u001b[0mb\u001b[0m\u001b[0;34m[\u001b[0m\u001b[0mi\u001b[0m\u001b[0;34m]\u001b[0m\u001b[0;34m[\u001b[0m\u001b[0mj\u001b[0m\u001b[0;34m]\u001b[0m \u001b[0;32mfor\u001b[0m \u001b[0mi\u001b[0m \u001b[0;32min\u001b[0m \u001b[0mrange\u001b[0m\u001b[0;34m(\u001b[0m\u001b[0mn_l\u001b[0m\u001b[0;34m)\u001b[0m\u001b[0;34m]\u001b[0m\u001b[0;34m)\u001b[0m\u001b[0;34m==\u001b[0m\u001b[0msum\u001b[0m\u001b[0;34m(\u001b[0m\u001b[0mcolumns\u001b[0m\u001b[0;34m[\u001b[0m\u001b[0mj\u001b[0m\u001b[0;34m]\u001b[0m\u001b[0;34m)\u001b[0m\u001b[0;34m)\u001b[0m\u001b[0;34m\u001b[0m\u001b[0;34m\u001b[0m\u001b[0m\n\u001b[0;32m----> 9\u001b[0;31m \u001b[0mfacile\u001b[0m\u001b[0;34m.\u001b[0m\u001b[0msolve\u001b[0m\u001b[0;34m(\u001b[0m\u001b[0;34m[\u001b[0m\u001b[0;34m[\u001b[0m\u001b[0mb\u001b[0m\u001b[0;34m[\u001b[0m\u001b[0mi\u001b[0m\u001b[0;34m]\u001b[0m \u001b[0;32mfor\u001b[0m \u001b[0mi\u001b[0m \u001b[0;32min\u001b[0m \u001b[0mrange\u001b[0m\u001b[0;34m(\u001b[0m\u001b[0mn_l\u001b[0m\u001b[0;34m)\u001b[0m\u001b[0;34m]\u001b[0m \u001b[0;32mfor\u001b[0m \u001b[0mj\u001b[0m \u001b[0;32min\u001b[0m \u001b[0mrange\u001b[0m\u001b[0;34m(\u001b[0m\u001b[0mn_l\u001b[0m\u001b[0;34m)\u001b[0m\u001b[0;34m]\u001b[0m\u001b[0;34m)\u001b[0m\u001b[0;34m\u001b[0m\u001b[0;34m\u001b[0m\u001b[0m\n\u001b[0m",
      "\u001b[0;32mfacile.pyx\u001b[0m in \u001b[0;36mfacile.solve\u001b[0;34m()\u001b[0m\n",
      "\u001b[0;32mfacile.pyx\u001b[0m in \u001b[0;36mfacile.Goal.forall\u001b[0;34m()\u001b[0m\n",
      "\u001b[0;31mAssertionError\u001b[0m: All arguments must be variables"
     ]
    }
   ],
   "source": [
    "import facile\n",
    "b = []\n",
    "for i in range(n_l):\n",
    "    b.append(facile.array([facile.variable([0,1]) for i in range(n_l)]))\n",
    "for i in range(n_l):\n",
    "    facile.constraint(sum(b[i])==sum(lines[i]))\n",
    "for j in range(n_c):\n",
    "    facile.constraint(sum([b[i][j] for i in range(n_l)])==sum(columns[j]))\n",
    "facile.solve([[b[i] for i in range(n_l)] for j in range(n_l)])"
   ]
  },
  {
   "cell_type": "code",
   "execution_count": 142,
   "metadata": {},
   "outputs": [
    {
     "ename": "ValueError",
     "evalue": "The problem is overconstrained",
     "output_type": "error",
     "traceback": [
      "\u001b[0;31m---------------------------------------------------------------------------\u001b[0m",
      "\u001b[0;31mStak_Fail\u001b[0m                                 Traceback (most recent call last)",
      "\u001b[0;32mfacile.pyx\u001b[0m in \u001b[0;36mfacile.constraint\u001b[0;34m()\u001b[0m\n",
      "\u001b[0;32mfacile.pyx\u001b[0m in \u001b[0;36mfacile.Cstr.post\u001b[0;34m()\u001b[0m\n",
      "\u001b[0;31mStak_Fail\u001b[0m: ",
      "\nDuring handling of the above exception, another exception occurred:\n",
      "\u001b[0;31mValueError\u001b[0m                                Traceback (most recent call last)",
      "\u001b[0;32m<ipython-input-142-6354f6619b0f>\u001b[0m in \u001b[0;36m<module>\u001b[0;34m\u001b[0m\n\u001b[1;32m      3\u001b[0m \u001b[0mb_c\u001b[0m \u001b[0;34m=\u001b[0m \u001b[0mfacile\u001b[0m\u001b[0;34m.\u001b[0m\u001b[0marray\u001b[0m\u001b[0;34m(\u001b[0m\u001b[0;34m[\u001b[0m\u001b[0mfacile\u001b[0m\u001b[0;34m.\u001b[0m\u001b[0mvariable\u001b[0m\u001b[0;34m(\u001b[0m\u001b[0;34m[\u001b[0m\u001b[0;36m0\u001b[0m\u001b[0;34m,\u001b[0m\u001b[0;36m1\u001b[0m\u001b[0;34m]\u001b[0m\u001b[0;34m)\u001b[0m \u001b[0;32mfor\u001b[0m \u001b[0mj\u001b[0m \u001b[0;32min\u001b[0m \u001b[0mrange\u001b[0m\u001b[0;34m(\u001b[0m\u001b[0mn_c\u001b[0m\u001b[0;34m)\u001b[0m\u001b[0;34m]\u001b[0m\u001b[0;34m)\u001b[0m\u001b[0;34m\u001b[0m\u001b[0;34m\u001b[0m\u001b[0m\n\u001b[1;32m      4\u001b[0m \u001b[0;32mfor\u001b[0m \u001b[0mi\u001b[0m \u001b[0;32min\u001b[0m \u001b[0mrange\u001b[0m\u001b[0;34m(\u001b[0m\u001b[0mn_l\u001b[0m\u001b[0;34m)\u001b[0m\u001b[0;34m:\u001b[0m\u001b[0;34m\u001b[0m\u001b[0;34m\u001b[0m\u001b[0m\n\u001b[0;32m----> 5\u001b[0;31m     \u001b[0mfacile\u001b[0m\u001b[0;34m.\u001b[0m\u001b[0mconstraint\u001b[0m\u001b[0;34m(\u001b[0m\u001b[0msum\u001b[0m\u001b[0;34m(\u001b[0m\u001b[0;34m[\u001b[0m\u001b[0mb_l\u001b[0m\u001b[0;34m[\u001b[0m\u001b[0mi\u001b[0m\u001b[0;34m]\u001b[0m\u001b[0;34m*\u001b[0m\u001b[0mb_c\u001b[0m\u001b[0;34m[\u001b[0m\u001b[0mj\u001b[0m\u001b[0;34m]\u001b[0m \u001b[0;32mfor\u001b[0m \u001b[0mj\u001b[0m \u001b[0;32min\u001b[0m \u001b[0mrange\u001b[0m\u001b[0;34m(\u001b[0m\u001b[0mn_c\u001b[0m\u001b[0;34m)\u001b[0m\u001b[0;34m]\u001b[0m\u001b[0;34m)\u001b[0m \u001b[0;34m==\u001b[0m \u001b[0msum\u001b[0m\u001b[0;34m(\u001b[0m\u001b[0mlines\u001b[0m\u001b[0;34m[\u001b[0m\u001b[0mi\u001b[0m\u001b[0;34m]\u001b[0m\u001b[0;34m)\u001b[0m\u001b[0;34m)\u001b[0m\u001b[0;34m\u001b[0m\u001b[0;34m\u001b[0m\u001b[0m\n\u001b[0m\u001b[1;32m      6\u001b[0m \u001b[0;31m# # for j in range(n_c):\u001b[0m\u001b[0;34m\u001b[0m\u001b[0;34m\u001b[0m\u001b[0;34m\u001b[0m\u001b[0m\n\u001b[1;32m      7\u001b[0m \u001b[0;31m# #     facile.constraint(sum([b_l[i]*b_c[j] for i in range(n_l)]) == sum(columns[j]))\u001b[0m\u001b[0;34m\u001b[0m\u001b[0;34m\u001b[0m\u001b[0;34m\u001b[0m\u001b[0m\n",
      "\u001b[0;32mfacile.pyx\u001b[0m in \u001b[0;36mfacile.constraint\u001b[0;34m()\u001b[0m\n",
      "\u001b[0;31mValueError\u001b[0m: The problem is overconstrained"
     ]
    }
   ],
   "source": [
    "import facile\n",
    "b_l = facile.array([facile.variable([0,1]) for i in range(n_l)])\n",
    "b_c = facile.array([facile.variable([0,1]) for j in range(n_c)])\n",
    "for i in range(n_l):\n",
    "    facile.constraint(sum([b_l[i]*b_c[j] for j in range(n_c)]) == sum(lines[i]))\n",
    "# # for j in range(n_c):\n",
    "# #     facile.constraint(sum([b_l[i]*b_c[j] for i in range(n_l)]) == sum(columns[j]))\n",
    "    \n",
    "facile.solve(list(b_l)+list(b_c))\n",
    "print(b_l.value)\n",
    "print(b_c.value)"
   ]
  },
  {
   "cell_type": "code",
   "execution_count": 144,
   "metadata": {},
   "outputs": [
    {
     "data": {
      "text/plain": [
       "True"
      ]
     },
     "execution_count": 144,
     "metadata": {},
     "output_type": "execute_result"
    }
   ],
   "source": [
    "import facile\n",
    "b = facile.array([facile.variable([0,1]) for i in range(n_l*n_c)])\n",
    "\n",
    "facile.solve(b)"
   ]
  }
 ],
 "metadata": {
  "kernelspec": {
   "display_name": "Python 3",
   "language": "python",
   "name": "python3"
  },
  "language_info": {
   "codemirror_mode": {
    "name": "ipython",
    "version": 3
   },
   "file_extension": ".py",
   "mimetype": "text/x-python",
   "name": "python",
   "nbconvert_exporter": "python",
   "pygments_lexer": "ipython3",
   "version": "3.7.9"
  },
  "widgets": {
   "application/vnd.jupyter.widget-state+json": {
    "state": {},
    "version_major": 2,
    "version_minor": 0
   }
  }
 },
 "nbformat": 4,
 "nbformat_minor": 4
}
